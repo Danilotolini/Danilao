{
  "cells": [
    {
      "cell_type": "markdown",
      "metadata": {
        "id": "view-in-github",
        "colab_type": "text"
      },
      "source": [
        "<a href=\"https://colab.research.google.com/github/Danilotolini/Danilao/blob/main/panda_colab.ipynb\" target=\"_parent\"><img src=\"https://colab.research.google.com/assets/colab-badge.svg\" alt=\"Open In Colab\"/></a>"
      ]
    },
    {
      "cell_type": "code",
      "source": [
        "import pandas as pd\n",
        "import numpy as np\n",
        "#from google.colab import files\n",
        "#files.upload()\n",
        "\n",
        "td = pd.read_csv(\"titanic_data.csv\")\n",
        "td.columns"
      ],
      "metadata": {
        "colab": {
          "base_uri": "https://localhost:8080/"
        },
        "id": "715va5f8g9Ud",
        "outputId": "e67d804b-5300-4c3b-e1c9-ea8840b88bb1"
      },
      "execution_count": 13,
      "outputs": [
        {
          "output_type": "execute_result",
          "data": {
            "text/plain": [
              "Index(['PassengerId', 'Survived', 'Pclass', 'Name', 'Sex', 'Age', 'SibSp',\n",
              "       'Parch', 'Ticket', 'Fare', 'Cabin', 'Embarked'],\n",
              "      dtype='object')"
            ]
          },
          "metadata": {},
          "execution_count": 13
        }
      ]
    },
    {
      "cell_type": "code",
      "source": [
        "#td.drop([\"PassengerId\",\"Name\",\"Ticket\",\"Cabin\"],axis=1,inplace=True)\n",
        "print(td.columns)"
      ],
      "metadata": {
        "colab": {
          "base_uri": "https://localhost:8080/"
        },
        "id": "xaowosgrkzJA",
        "outputId": "9ec7d3ca-c515-4684-e69f-dc128de239a0"
      },
      "execution_count": 10,
      "outputs": [
        {
          "output_type": "stream",
          "name": "stdout",
          "text": [
            "Index(['PassengerId', 'Survived', 'Pclass', 'Name', 'Sex', 'Age', 'SibSp',\n",
            "       'Parch', 'Ticket', 'Fare', 'Cabin', 'Embarked'],\n",
            "      dtype='object')\n"
          ]
        }
      ]
    },
    {
      "cell_type": "code",
      "source": [
        "# Exibindo a média por classe\n",
        "print(td.groupby('Pclass').mean())\n",
        "\n",
        "\n",
        "# Criando função para inserir idade faltante\n",
        "def insert_age(cols):\n",
        "    Age = cols[0]\n",
        "    Pclass = cols[1]\n",
        "\n",
        "    if pd.isnull(Age):\n",
        "        if Pclass == 1:\n",
        "            return 38\n",
        "        elif Pclass == 2:\n",
        "            return 30\n",
        "        else:\n",
        "            return 25\n",
        "    else:\n",
        "        return Age\n",
        "\n",
        "\n",
        "# Aplicando a função ao dataFrame td\n",
        "td['Age'] = td[['Age','Pclass']].apply(insert_age,axis=1)\n",
        "\n",
        "\n",
        "\n",
        "\n",
        "\n",
        "\n",
        "# Fare\n",
        "fare_median = td['Fare'].median()\n",
        "td['Fare'].fillna(fare_median, inplace=True)\n",
        "\n",
        "\n",
        "# Embarked\n",
        "embarked_top = td['Embarked'].value_counts()[0]\n",
        "td['Embarked'].fillna(embarked_top, inplace=True)"
      ],
      "metadata": {
        "colab": {
          "base_uri": "https://localhost:8080/"
        },
        "id": "IOpPLeWnqsb8",
        "outputId": "868a6e38-0a14-4ddc-8560-3e4113984392"
      },
      "execution_count": 12,
      "outputs": [
        {
          "output_type": "stream",
          "name": "stdout",
          "text": [
            "        PassengerId  Survived        Age     SibSp     Parch       Fare\n",
            "Pclass                                                                 \n",
            "1        461.597222  0.629630  38.233441  0.416667  0.356481  84.154687\n",
            "2        445.956522  0.472826  29.877630  0.402174  0.380435  20.662183\n",
            "3        439.154786  0.242363  25.140620  0.615071  0.393075  13.675550\n"
          ]
        },
        {
          "output_type": "stream",
          "name": "stderr",
          "text": [
            "<ipython-input-12-f6f04e577b83>:2: FutureWarning: The default value of numeric_only in DataFrameGroupBy.mean is deprecated. In a future version, numeric_only will default to False. Either specify numeric_only or select only columns which should be valid for the function.\n",
            "  print(td.groupby('Pclass').mean())\n"
          ]
        }
      ]
    }
  ],
  "metadata": {
    "colab": {
      "name": "Olá, este é o Colaboratory",
      "provenance": [],
      "include_colab_link": true
    },
    "kernelspec": {
      "display_name": "Python 3",
      "name": "python3"
    }
  },
  "nbformat": 4,
  "nbformat_minor": 0
}