{
  "nbformat": 4,
  "nbformat_minor": 0,
  "metadata": {
    "colab": {
      "provenance": [],
      "authorship_tag": "ABX9TyNWF4sxY4e/NA8JTPhqTQ2a",
      "include_colab_link": true
    },
    "kernelspec": {
      "name": "python3",
      "display_name": "Python 3"
    },
    "language_info": {
      "name": "python"
    }
  },
  "cells": [
    {
      "cell_type": "markdown",
      "metadata": {
        "id": "view-in-github",
        "colab_type": "text"
      },
      "source": [
        "<a href=\"https://colab.research.google.com/github/Danilotolini/Danilao/blob/main/C%C3%B3digo%20da%20aplica%C3%A7%C3%A3o%20do%20teste%20de%20hipotese.ipynb\" target=\"_parent\"><img src=\"https://colab.research.google.com/assets/colab-badge.svg\" alt=\"Open In Colab\"/></a>"
      ]
    },
    {
      "cell_type": "code",
      "source": [
        "# Importar bibliotecas\n",
        "import pandas as pd\n",
        "from scipy import stats\n",
        "\n",
        "# Dados\n",
        "areas_malignas = [50, 45, 55, 40, 60]\n",
        "areas_benignas = [30, 35, 25, 20, 40]\n",
        "\n",
        "# Hipóteses\n",
        "hipotese_nula = \"H0: μ1 ≤ μ2\"\n",
        "hipotese_alternativa = \"H1: μ1 > μ2\"\n",
        "\n",
        "# Estatísticas descritivas\n",
        "mean_maligna = pd.DataFrame(areas_malignas).mean()\n",
        "std_maligna = pd.DataFrame(areas_malignas).std()\n",
        "\n",
        "mean_benigna = pd.DataFrame(areas_benignas).mean()\n",
        "std_benigna = pd.DataFrame(areas_benignas).std()\n",
        "\n",
        "# Teste t bilateral\n",
        "tstat, pvalue = stats.ttest_ind(areas_malignas, areas_benignas)\n",
        "\n",
        "print(f'Média áreas tumores malignos: {mean_maligna}')\n",
        "print(f'Média áreas tumores benignos: {mean_benigna}')\n",
        "\n",
        "print(f'Estatística do teste: {tstat}')\n",
        "print(f'Valor p: {pvalue}')\n",
        "\n",
        "if pvalue < 0.05:\n",
        "  print(f'Rejeitar H0. A média de áreas malignas é maior')\n",
        "else:\n",
        "  print(f'Não rejeitar H0')"
      ],
      "metadata": {
        "colab": {
          "base_uri": "https://localhost:8080/"
        },
        "id": "j--qkqRkfyEM",
        "outputId": "d8db8cdc-c1fc-4f96-8719-6e77b5cbdd34"
      },
      "execution_count": 3,
      "outputs": [
        {
          "output_type": "stream",
          "name": "stdout",
          "text": [
            "Média áreas tumores malignos: 0    50.0\n",
            "dtype: float64\n",
            "Média áreas tumores benignos: 0    30.0\n",
            "dtype: float64\n",
            "Estatística do teste: 4.0\n",
            "Valor p: 0.003949772803445322\n",
            "Rejeitar H0. A média de áreas malignas é maior\n"
          ]
        }
      ]
    }
  ]
}